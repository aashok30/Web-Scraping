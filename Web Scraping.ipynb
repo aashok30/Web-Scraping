{
 "cells": [
  {
   "cell_type": "code",
   "execution_count": null,
   "id": "313d95f8",
   "metadata": {},
   "outputs": [],
   "source": [
    "# Step 1: Install AutoScraper"
   ]
  },
  {
   "cell_type": "raw",
   "id": "8b8360f5",
   "metadata": {},
   "source": [
    "pip install autoscraper"
   ]
  },
  {
   "cell_type": "code",
   "execution_count": null,
   "id": "b82c7079",
   "metadata": {},
   "outputs": [],
   "source": [
    "# Step 2: Import AutoScraper Module"
   ]
  },
  {
   "cell_type": "code",
   "execution_count": 17,
   "id": "6aeedf8f",
   "metadata": {},
   "outputs": [],
   "source": [
    "from autoscraper import AutoScraper"
   ]
  },
  {
   "cell_type": "code",
   "execution_count": null,
   "id": "8a486003",
   "metadata": {},
   "outputs": [],
   "source": [
    "# Step 3: Define the IMDb URL and Wanted List"
   ]
  },
  {
   "cell_type": "code",
   "execution_count": 18,
   "id": "4255622d",
   "metadata": {},
   "outputs": [],
   "source": [
    "url1 = \"https://www.imdb.com/chart/top/\"\n",
    "wanted_list2 = [\"1. The Shawshank Redemption\",\"1994\",\"2h 22m\",\"9.3\"]"
   ]
  },
  {
   "cell_type": "code",
   "execution_count": null,
   "id": "5626bfc1",
   "metadata": {},
   "outputs": [],
   "source": [
    "# Step 4: Initialize AutoScraper and Build the Scraper"
   ]
  },
  {
   "cell_type": "code",
   "execution_count": 19,
   "id": "7bd1f2e0",
   "metadata": {},
   "outputs": [],
   "source": [
    "scraper = AutoScraper()\n",
    "result2 = scraper.build(url1, wanted_list2)"
   ]
  },
  {
   "cell_type": "code",
   "execution_count": 20,
   "id": "1849f4b7",
   "metadata": {},
   "outputs": [
    {
     "name": "stdout",
     "output_type": "stream",
     "text": [
      "['1. The Shawshank Redemption', '2. The Godfather', '3. The Dark Knight', '4. The Godfather: Part II', '5. 12 Angry Men', \"6. Schindler's List\", '7. The Lord of the Rings: The Return of the King', '8. Pulp Fiction', '9. The Lord of the Rings: The Fellowship of the Ring', '10. Il Buono, Il Brutto, Il Cattivo', '11. Forrest Gump', '12. Fight Club', '13. The Lord of the Rings: The Two Towers', '14. Inception', '15. Star Wars: Episode V - The Empire Strikes Back', '16. The Matrix', '17. GoodFellas', \"18. One Flew Over the Cuckoo's Nest\", '19. Se7en', \"20. It's a Wonderful Life\", '21. Shichinin No Samurai', '22. Interstellar', '23. The Silence of the Lambs', '24. Spider-man: Across the Spider-verse', '25. Saving Private Ryan', '26. City of God', '27. Life Is Beautiful', '28. The Green Mile', '29. Star Wars: Episode IV - A New Hope', '30. Terminator 2: Judgment Day', '31. Back to the Future', '32. Spirited Away', '33. The Pianist', '34. Psycho', '35. Parasite', '36. Gladiator', '37. The Lion King', '38. Léon', '39. American History X', '40. The Departed', '41. Whiplash', '42. The Prestige', '43. The Usual Suspects', '44. Grave of the Fireflies', '45. Seppuku', '46. Casablanca', '47. Oppenheimer', '48. Intouchables', '49. Modern Times', '50. Cinema Paradiso', \"51. C'era Una Volta Il West\", '52. Rear Window', '53. Alien', '54. City Lights', '55. Apocalypse Now', '56. Memento', '57. Django Unchained', '58. Raiders of the Lost Ark', '59. WALL·E', '60. Das Leben der Anderen', '61. Sunset Blvd.', '62. Paths of Glory', '63. Avengers: Infinity War', '64. The Shining', '65. The Great Dictator', '66. Witness for the Prosecution', '67. Spider-Man: Into the Spider-Verse', '68. Alien 2', '69. Inglourious Basterds', '70. The Dark Knight Rises', '71. American Beauty', '72. Dr. Strangelove or: How I Learned to Stop Worrying and Love the Bomb', '73. Oldeuboi', '74. Coco', '75. Amadeus', '76. Toy Story', '77. Das Boot', '78. Braveheart', '79. Avengers: Endgame', '80. Joker', '81. Mononoke-hime', '82. Good Will Hunting', '83. Kimi No Na Wa.', '84. Once Upon a Time in America', '85. 3 Idiots', '86. Tengoku to Jigoku', \"87. Singin' in the Rain\", '88. Capharnaüm', '89. Requiem for a Dream', '90. Toy Story 3', '91. Idi I Smotri', '92. Star Wars: Episode VI - Return of the Jedi', '93. Eternal Sunshine of the Spotless Mind', '94. 2001: A Space Odyssey', '95. Jagten', '96. Reservoir Dogs', '97. Ikiru', '98. Lawrence of Arabia', '99. Citizen Kane', '100. M - Eine Stadt sucht einen Mörder', '101. The Apartment', '102. North by Northwest', '103. Vertigo', '104. Double Indemnity', \"105. Le fabuleux destin d'Amélie Poulain\", '106. Scarface', '107. Full Metal Jacket', '108. A Clockwork Orange', '109. Incendies', '110. Heat', '111. Up', '112. Hamilton', '113. To Kill a Mockingbird', '114. The Sting', '115. Jodaeiye Nader Az Simin', '116. Indiana Jones and the Last Crusade', '117. Metropolis', '118. Die Hard', '119. Taare Zameen Par', '120. Snatch', '121. Ladri Di Biciclette', '122. L.A. Confidential', '123. Taxi Driver', '124. 1917', '125. Der Untergang', '126. Dangal', '127. Per qualche dollaro in più', '128. Batman Begins', '129. Top Gun: Maverick', '130. Some Like It Hot', '131. The Kid', '132. The Wolf of Wall Street', '133. The Father', '134. Green Book', '135. All About Eve', '136. Judgment at Nuremberg', '137. The Truman Show', '138. There Will Be Blood', '139. Casino', '140. Ran', '141. Shutter Island', '142. El Laberinto Del Fauno', '143. The Sixth Sense', '144. Jurassic Park', '145. Unforgiven', '146. A Beautiful Mind', '147. The Treasure of the Sierra Madre', '148. No Country for Old Men', '149. Yôjinbô', '150. Kill Bill: Vol. 1', '151. The Thing', '152. Monty Python and the Holy Grail', '153. The Great Escape', '154. Finding Nemo', '155. Rashōmon', '156. The Elephant Man', '157. Chinatown', '158. Hauru No Ugoku Shiro', '159. Dial M for Murder', '160. Gone with the Wind', '161. V for Vendetta', '162. Raging Bull', '163. Prisoners', '164. Lock, Stock and Two Smoking Barrels', '165. El Secreto De Sus Ojos', '166. Inside Out', '167. Spider-Man: No Way Home', '168. Three Billboards Outside Ebbing, Missouri', '169. The Bridge on the River Kwai', '170. Trainspotting', '171. Fargo', '172. Warrior', '173. Gran Torino', '174. Catch Me If You Can', '175. My Neighbour Totoro', '176. Million Dollar Baby', '177. Klaus', '178. Harry Potter and the Deathly Hallows: Part 2', '179. Bacheha-Ye Aseman', '180. Blade Runner', '181. 12 Years a Slave', '182. Before Sunrise', '183. The Grand Budapest Hotel', '184. The Gold Rush', '185. Ben-Hur', '186. Barry Lyndon', '187. Gone Girl', '188. Hacksaw Ridge', '189. On the Waterfront', '190. In the Name of the Father', '191. Salinui Chueok', '192. The General', '193. The Deer Hunter', '194. Smultronstället', '195. Relatos Salvajes', '196. The Third Man', '197. Le Salaire De La Peur', '198. Sherlock Jr.', '199. Dead Poets Society', '200. Mad Max: Fury Road', '201. Monsters, Inc.', '202. Mr. Smith Goes to Washington', '203. Jaws', '204. How to Train Your Dragon', '205. Mary and Max', '206. Det Sjunde Inseglet', '207. Ford v. Ferrari', '208. Room', '209. The Big Lebowski', '210. Tokyo Story', '211. Ratatouille', '212. Rocky', '213. Hotel Rwanda', '214. Logan', \"215. La passion de Jeanne d'Arc\", '216. Spotlight', '217. Platoon', '218. The Terminator', '219. Jai Bhim', '220. Before Sunset', '221. Rush', '222. Network', '223. The Exorcist', '224. The Best Years of Our Lives', '225. Stand by Me', '226. La haine', '227. The Wizard of Oz', '228. Pirates of the Caribbean: The Curse of the Black Pearl', '229. The Incredibles', '230. Into the Wild', '231. Babam Ve Oglum', '232. To Be or Not to Be', \"233. Hachi: A Dog's Tale\", '234. Ah-ga-ssi', '235. The Grapes of Wrath', '236. La battaglia di Algeri', '237. Groundhog Day', '238. Amores perros', '239. Rebecca', '240. The Sound of Music', '241. Cool Hand Luke', '242. Pather Panchali', '243. The Iron Giant', '244. It Happened One Night', '245. The Help', '246. The 400 Blows', '247. Persona', '248. Life of Brian', '249. Aladdin', '250. Gangs of Wasseypur', '1994', '1972', '2008', '1974', '1957', '1993', '2003', '2001', '1966', '1999', '2002', '2010', '1980', '1990', '1975', '1995', '1946', '1954', '2014', '1991', '2023', '1998', '1997', '1977', '1985', '1960', '2019', '2000', '2006', '1988', '1962', '1942', '2011', '1936', '1968', '1979', '1931', '2012', '1981', '1950', '2018', '1940', '1986', '2009', '1964', '2017', '1984', '2016', '1963', '1952', '1983', '2004', '1992', '1941', '1959', '1958', '1944', '1987', '1971', '2020', '1973', '1989', '1927', '2007', '1948', '1976', '1965', '2005', '2022', '1921', '2013', '1961', '1982', '1939', '2015', '2021', '1996', '1925', '1926', '1978', '1949', '1953', '1924', '1928', '1967', '1955', '1934', '2h 22m', '2h 55m', '2h 32m', '3h 22m', '1h 36m', '3h 15m', '3h 21m', '2h 34m', '2h 58m', '2h 41m', '2h 19m', '2h 59m', '2h 28m', '2h 4m', '2h 16m', '2h 25m', '2h 13m', '2h 7m', '2h 10m', '3h 27m', '2h 49m', '1h 58m', '2h 20m', '1h 56m', '3h 9m', '2h 1m', '2h 17m', '2h 5m', '2h 30m', '1h 49m', '2h 12m', '2h 35m', '1h 28m', '1h 50m', '1h 59m', '2h 31m', '1h 46m', '1h 29m', '1h 42m', '3h', '1h 52m', '1h 27m', '2h 46m', '1h 57m', '2h 27m', '1h 53m', '2h 45m', '1h 55m', '1h 38m', '2h 29m', '2h 26m', '2h 33m', '2h 44m', '2h 2m', '1h 35m', '1h 41m', '1h 45m', '2h 40m', '1h 21m', '3h 1m', '2h 14m', '2h 6m', '3h 49m', '2h 50m', '2h 23m', '1h 43m', '2h 11m', '1h 48m', '1h 39m', '3h 38m', '2h 8m', '1h 47m', '2h 9m', '2h 3m', '2h 42m', '1h 44m', '2h 18m', '1h 54m', '2h 36m', '1h 8m', '1h 37m', '2h 38m', '2h 15m', '1h 51m', '1h 31m', '2h 52m', '1h 40m', '3h 58m', '1h 33m', '2h 21m', '1h 26m', '3h 32m', '3h 5m', '1h 18m', '3h 3m', '45m', '2h', '1h 32m', '1h 20m', '1h 25m', '1h 34m', '1h 30m', '5h 21m', '9.3', '9.2', '9.0', '8.9', '8.8', '8.7', '8.6', '8.5', '8.4', '8.3', '8.2', '8.1', '8.0']\n"
     ]
    }
   ],
   "source": [
    "print(result2)"
   ]
  },
  {
   "cell_type": "code",
   "execution_count": null,
   "id": "fd1334bc",
   "metadata": {},
   "outputs": [],
   "source": [
    "# Step 5: Extract and Display Scraped Data"
   ]
  },
  {
   "cell_type": "code",
   "execution_count": 21,
   "id": "427c6577",
   "metadata": {},
   "outputs": [
    {
     "name": "stdout",
     "output_type": "stream",
     "text": [
      "{'rule_xtog': ['1. The Shawshank Redemption', '2. The Godfather', '3. The Dark Knight', '4. The Godfather: Part II', '5. 12 Angry Men', \"6. Schindler's List\", '7. The Lord of the Rings: The Return of the King', '8. Pulp Fiction', '9. The Lord of the Rings: The Fellowship of the Ring', '10. Il Buono, Il Brutto, Il Cattivo', '11. Forrest Gump', '12. Fight Club', '13. The Lord of the Rings: The Two Towers', '14. Inception', '15. Star Wars: Episode V - The Empire Strikes Back', '16. The Matrix', '17. GoodFellas', \"18. One Flew Over the Cuckoo's Nest\", '19. Se7en', \"20. It's a Wonderful Life\", '21. Shichinin No Samurai', '22. Interstellar', '23. The Silence of the Lambs', '24. Spider-man: Across the Spider-verse', '25. Saving Private Ryan', '26. City of God', '27. Life Is Beautiful', '28. The Green Mile', '29. Star Wars: Episode IV - A New Hope', '30. Terminator 2: Judgment Day', '31. Back to the Future', '32. Spirited Away', '33. The Pianist', '34. Psycho', '35. Parasite', '36. Gladiator', '37. The Lion King', '38. Léon', '39. American History X', '40. The Departed', '41. Whiplash', '42. The Prestige', '43. The Usual Suspects', '44. Grave of the Fireflies', '45. Seppuku', '46. Casablanca', '47. Oppenheimer', '48. Intouchables', '49. Modern Times', '50. Cinema Paradiso', \"51. C'era Una Volta Il West\", '52. Rear Window', '53. Alien', '54. City Lights', '55. Apocalypse Now', '56. Memento', '57. Django Unchained', '58. Raiders of the Lost Ark', '59. WALL·E', '60. Das Leben der Anderen', '61. Sunset Blvd.', '62. Paths of Glory', '63. Avengers: Infinity War', '64. The Shining', '65. The Great Dictator', '66. Witness for the Prosecution', '67. Spider-Man: Into the Spider-Verse', '68. Alien 2', '69. Inglourious Basterds', '70. The Dark Knight Rises', '71. American Beauty', '72. Dr. Strangelove or: How I Learned to Stop Worrying and Love the Bomb', '73. Oldeuboi', '74. Coco', '75. Amadeus', '76. Toy Story', '77. Das Boot', '78. Braveheart', '79. Avengers: Endgame', '80. Joker', '81. Mononoke-hime', '82. Good Will Hunting', '83. Kimi No Na Wa.', '84. Once Upon a Time in America', '85. 3 Idiots', '86. Tengoku to Jigoku', \"87. Singin' in the Rain\", '88. Capharnaüm', '89. Requiem for a Dream', '90. Toy Story 3', '91. Idi I Smotri', '92. Star Wars: Episode VI - Return of the Jedi', '93. Eternal Sunshine of the Spotless Mind', '94. 2001: A Space Odyssey', '95. Jagten', '96. Reservoir Dogs', '97. Ikiru', '98. Lawrence of Arabia', '99. Citizen Kane', '100. M - Eine Stadt sucht einen Mörder', '101. The Apartment', '102. North by Northwest', '103. Vertigo', '104. Double Indemnity', \"105. Le fabuleux destin d'Amélie Poulain\", '106. Scarface', '107. Full Metal Jacket', '108. A Clockwork Orange', '109. Incendies', '110. Heat', '111. Up', '112. Hamilton', '113. To Kill a Mockingbird', '114. The Sting', '115. Jodaeiye Nader Az Simin', '116. Indiana Jones and the Last Crusade', '117. Metropolis', '118. Die Hard', '119. Taare Zameen Par', '120. Snatch', '121. Ladri Di Biciclette', '122. L.A. Confidential', '123. Taxi Driver', '124. 1917', '125. Der Untergang', '126. Dangal', '127. Per qualche dollaro in più', '128. Batman Begins', '129. Top Gun: Maverick', '130. Some Like It Hot', '131. The Kid', '132. The Wolf of Wall Street', '133. The Father', '134. Green Book', '135. All About Eve', '136. Judgment at Nuremberg', '137. The Truman Show', '138. There Will Be Blood', '139. Casino', '140. Ran', '141. Shutter Island', '142. El Laberinto Del Fauno', '143. The Sixth Sense', '144. Jurassic Park', '145. Unforgiven', '146. A Beautiful Mind', '147. The Treasure of the Sierra Madre', '148. No Country for Old Men', '149. Yôjinbô', '150. Kill Bill: Vol. 1', '151. The Thing', '152. Monty Python and the Holy Grail', '153. The Great Escape', '154. Finding Nemo', '155. Rashōmon', '156. The Elephant Man', '157. Chinatown', '158. Hauru No Ugoku Shiro', '159. Dial M for Murder', '160. Gone with the Wind', '161. V for Vendetta', '162. Raging Bull', '163. Prisoners', '164. Lock, Stock and Two Smoking Barrels', '165. El Secreto De Sus Ojos', '166. Inside Out', '167. Spider-Man: No Way Home', '168. Three Billboards Outside Ebbing, Missouri', '169. The Bridge on the River Kwai', '170. Trainspotting', '171. Fargo', '172. Warrior', '173. Gran Torino', '174. Catch Me If You Can', '175. My Neighbour Totoro', '176. Million Dollar Baby', '177. Klaus', '178. Harry Potter and the Deathly Hallows: Part 2', '179. Bacheha-Ye Aseman', '180. Blade Runner', '181. 12 Years a Slave', '182. Before Sunrise', '183. The Grand Budapest Hotel', '184. The Gold Rush', '185. Ben-Hur', '186. Barry Lyndon', '187. Gone Girl', '188. Hacksaw Ridge', '189. On the Waterfront', '190. In the Name of the Father', '191. Salinui Chueok', '192. The General', '193. The Deer Hunter', '194. Smultronstället', '195. Relatos Salvajes', '196. The Third Man', '197. Le Salaire De La Peur', '198. Sherlock Jr.', '199. Dead Poets Society', '200. Mad Max: Fury Road', '201. Monsters, Inc.', '202. Mr. Smith Goes to Washington', '203. Jaws', '204. How to Train Your Dragon', '205. Mary and Max', '206. Det Sjunde Inseglet', '207. Ford v. Ferrari', '208. Room', '209. The Big Lebowski', '210. Tokyo Story', '211. Ratatouille', '212. Rocky', '213. Hotel Rwanda', '214. Logan', \"215. La passion de Jeanne d'Arc\", '216. Spotlight', '217. Platoon', '218. The Terminator', '219. Jai Bhim', '220. Before Sunset', '221. Rush', '222. Network', '223. The Exorcist', '224. The Best Years of Our Lives', '225. Stand by Me', '226. La haine', '227. The Wizard of Oz', '228. Pirates of the Caribbean: The Curse of the Black Pearl', '229. The Incredibles', '230. Into the Wild', '231. Babam Ve Oglum', '232. To Be or Not to Be', \"233. Hachi: A Dog's Tale\", '234. Ah-ga-ssi', '235. The Grapes of Wrath', '236. La battaglia di Algeri', '237. Groundhog Day', '238. Amores perros', '239. Rebecca', '240. The Sound of Music', '241. Cool Hand Luke', '242. Pather Panchali', '243. The Iron Giant', '244. It Happened One Night', '245. The Help', '246. The 400 Blows', '247. Persona', '248. Life of Brian', '249. Aladdin', '250. Gangs of Wasseypur'], 'rule_ocw7': ['1994', '1972', '2008', '1974', '1957', '1993', '2003', '1994', '2001', '1966', '1994', '1999', '2002', '2010', '1980', '1999', '1990', '1975', '1995', '1946', '1954', '2014', '1991', '2023', '1998', '2002', '1997', '1999', '1977', '1991', '1985', '2001', '2002', '1960', '2019', '2000', '1994', '1994', '1998', '2006', '2014', '2006', '1995', '1988', '1962', '1942', '2023', '2011', '1936', '1988', '1968', '1954', '1979', '1931', '1979', '2000', '2012', '1981', '2008', '2006', '1950', '1957', '2018', '1980', '1940', '1957', '2018', '1986', '2009', '2012', '1999', '1964', '2003', '2017', '1984', '1995', '1981', '1995', '2019', '2019', '1997', '1997', '2016', '1984', '2009', '1963', '1952', '2018', '2000', '2010', '1985', '1983', '2004', '1968', '2012', '1992', '1952', '1962', '1941', '1931', '1960', '1959', '1958', '1944', '2001', '1983', '1987', '1971', '2010', '1995', '2009', '2020', '1962', '1973', '2011', '1989', '1927', '1988', '2007', '2000', '1948', '1997', '1976', '2019', '2004', '2016', '1965', '2005', '2022', '1959', '1921', '2013', '2020', '2018', '1950', '1961', '1998', '2007', '1995', '1985', '2010', '2006', '1999', '1993', '1992', '2001', '1948', '2007', '1961', '2003', '1982', '1975', '1963', '2003', '1950', '1980', '1974', '2004', '1954', '1939', '2005', '1980', '2013', '1998', '2009', '2015', '2021', '2017', '1957', '1996', '1996', '2011', '2008', '2002', '1988', '2004', '2019', '2011', '1997', '1982', '2013', '1995', '2014', '1925', '1959', '1975', '2014', '2016', '1954', '1993', '2003', '1926', '1978', '1957', '2014', '1949', '1953', '1924', '1989', '2015', '2001', '1939', '1975', '2010', '2009', '1957', '2019', '2015', '1998', '1953', '2007', '1976', '2004', '2017', '1928', '2015', '1986', '1984', '2021', '2004', '2013', '1976', '1973', '1946', '1986', '1995', '1939', '2003', '2004', '2007', '2005', '1942', '2009', '2016', '1940', '1966', '1993', '2000', '1940', '1965', '1967', '1955', '1999', '1934', '2011', '1959', '1966', '1979', '1992', '2012'], 'rule_2t7x': ['1994', '1972', '2008', '1974', '1957', '1993', '2003', '1994', '2001', '1966', '1994', '1999', '2002', '2010', '1980', '1999', '1990', '1975', '1995', '1946', '1954', '2014', '1991', '2023', '1998', '2002', '1997', '1999', '1977', '1991', '1985', '2001', '2002', '1960', '2019', '2000', '1994', '1994', '1998', '2006', '2014', '2006', '1995', '1988', '1962', '1942', '2023', '2011', '1936', '1988', '1968', '1954', '1979', '1931', '1979', '2000', '2012', '1981', '2008', '2006', '1950', '1957', '2018', '1980', '1940', '1957', '2018', '1986', '2009', '2012', '1999', '1964', '2003', '2017', '1984', '1995', '1981', '1995', '2019', '2019', '1997', '1997', '2016', '1984', '2009', '1963', '1952', '2018', '2000', '2010', '1985', '1983', '2004', '1968', '2012', '1992', '1952', '1962', '1941', '1931', '1960', '1959', '1958', '1944', '2001', '1983', '1987', '1971', '2010', '1995', '2009', '2020', '1962', '1973', '2011', '1989', '1927', '1988', '2007', '2000', '1948', '1997', '1976', '2019', '2004', '2016', '1965', '2005', '2022', '1959', '1921', '2013', '2020', '2018', '1950', '1961', '1998', '2007', '1995', '1985', '2010', '2006', '1999', '1993', '1992', '2001', '1948', '2007', '1961', '2003', '1982', '1975', '1963', '2003', '1950', '1980', '1974', '2004', '1954', '1939', '2005', '1980', '2013', '1998', '2009', '2015', '2021', '2017', '1957', '1996', '1996', '2011', '2008', '2002', '1988', '2004', '2019', '2011', '1997', '1982', '2013', '1995', '2014', '1925', '1959', '1975', '2014', '2016', '1954', '1993', '2003', '1926', '1978', '1957', '2014', '1949', '1953', '1924', '1989', '2015', '2001', '1939', '1975', '2010', '2009', '1957', '2019', '2015', '1998', '1953', '2007', '1976', '2004', '2017', '1928', '2015', '1986', '1984', '2021', '2004', '2013', '1976', '1973', '1946', '1986', '1995', '1939', '2003', '2004', '2007', '2005', '1942', '2009', '2016', '1940', '1966', '1993', '2000', '1940', '1965', '1967', '1955', '1999', '1934', '2011', '1959', '1966', '1979', '1992', '2012'], 'rule_ctzd': ['1994', '1972', '2008', '1974', '1957', '1993', '2003', '1994', '2001', '1966', '1994', '1999', '2002', '2010', '1980', '1999', '1990', '1975', '1995', '1946', '1954', '2014', '1991', '2023', '1998', '2002', '1997', '1999', '1977', '1991', '1985', '2001', '2002', '1960', '2019', '2000', '1994', '1994', '1998', '2006', '2014', '2006', '1995', '1988', '1962', '1942', '2023', '2011', '1936', '1988', '1968', '1954', '1979', '1931', '1979', '2000', '2012', '1981', '2008', '2006', '1950', '1957', '2018', '1980', '1940', '1957', '2018', '1986', '2009', '2012', '1999', '1964', '2003', '2017', '1984', '1995', '1981', '1995', '2019', '2019', '1997', '1997', '2016', '1984', '2009', '1963', '1952', '2018', '2000', '2010', '1985', '1983', '2004', '1968', '2012', '1992', '1952', '1962', '1941', '1931', '1960', '1959', '1958', '1944', '2001', '1983', '1987', '1971', '2010', '1995', '2009', '2020', '1962', '1973', '2011', '1989', '1927', '1988', '2007', '2000', '1948', '1997', '1976', '2019', '2004', '2016', '1965', '2005', '2022', '1959', '1921', '2013', '2020', '2018', '1950', '1961', '1998', '2007', '1995', '1985', '2010', '2006', '1999', '1993', '1992', '2001', '1948', '2007', '1961', '2003', '1982', '1975', '1963', '2003', '1950', '1980', '1974', '2004', '1954', '1939', '2005', '1980', '2013', '1998', '2009', '2015', '2021', '2017', '1957', '1996', '1996', '2011', '2008', '2002', '1988', '2004', '2019', '2011', '1997', '1982', '2013', '1995', '2014', '1925', '1959', '1975', '2014', '2016', '1954', '1993', '2003', '1926', '1978', '1957', '2014', '1949', '1953', '1924', '1989', '2015', '2001', '1939', '1975', '2010', '2009', '1957', '2019', '2015', '1998', '1953', '2007', '1976', '2004', '2017', '1928', '2015', '1986', '1984', '2021', '2004', '2013', '1976', '1973', '1946', '1986', '1995', '1939', '2003', '2004', '2007', '2005', '1942', '2009', '2016', '1940', '1966', '1993', '2000', '1940', '1965', '1967', '1955', '1999', '1934', '2011', '1959', '1966', '1979', '1992', '2012'], 'rule_xsko': ['1994', '1972', '2008', '1974', '1957', '1993', '2003', '1994', '2001', '1966', '1994', '1999', '2002', '2010', '1980', '1999', '1990', '1975', '1995', '1946', '1954', '2014', '1991', '2023', '1998', '2002', '1997', '1999', '1977', '1991', '1985', '2001', '2002', '1960', '2019', '2000', '1994', '1994', '1998', '2006', '2014', '2006', '1995', '1988', '1962', '1942', '2023', '2011', '1936', '1988', '1968', '1954', '1979', '1931', '1979', '2000', '2012', '1981', '2008', '2006', '1950', '1957', '2018', '1980', '1940', '1957', '2018', '1986', '2009', '2012', '1999', '1964', '2003', '2017', '1984', '1995', '1981', '1995', '2019', '2019', '1997', '1997', '2016', '1984', '2009', '1963', '1952', '2018', '2000', '2010', '1985', '1983', '2004', '1968', '2012', '1992', '1952', '1962', '1941', '1931', '1960', '1959', '1958', '1944', '2001', '1983', '1987', '1971', '2010', '1995', '2009', '2020', '1962', '1973', '2011', '1989', '1927', '1988', '2007', '2000', '1948', '1997', '1976', '2019', '2004', '2016', '1965', '2005', '2022', '1959', '1921', '2013', '2020', '2018', '1950', '1961', '1998', '2007', '1995', '1985', '2010', '2006', '1999', '1993', '1992', '2001', '1948', '2007', '1961', '2003', '1982', '1975', '1963', '2003', '1950', '1980', '1974', '2004', '1954', '1939', '2005', '1980', '2013', '1998', '2009', '2015', '2021', '2017', '1957', '1996', '1996', '2011', '2008', '2002', '1988', '2004', '2019', '2011', '1997', '1982', '2013', '1995', '2014', '1925', '1959', '1975', '2014', '2016', '1954', '1993', '2003', '1926', '1978', '1957', '2014', '1949', '1953', '1924', '1989', '2015', '2001', '1939', '1975', '2010', '2009', '1957', '2019', '2015', '1998', '1953', '2007', '1976', '2004', '2017', '1928', '2015', '1986', '1984', '2021', '2004', '2013', '1976', '1973', '1946', '1986', '1995', '1939', '2003', '2004', '2007', '2005', '1942', '2009', '2016', '1940', '1966', '1993', '2000', '1940', '1965', '1967', '1955', '1999', '1934', '2011', '1959', '1966', '1979', '1992', '2012'], 'rule_3nrr': ['1994', '1972', '2008', '1974', '1957', '1993', '2003', '1994', '2001', '1966', '1994', '1999', '2002', '2010', '1980', '1999', '1990', '1975', '1995', '1946', '1954', '2014', '1991', '2023', '1998', '2002', '1997', '1999', '1977', '1991', '1985', '2001', '2002', '1960', '2019', '2000', '1994', '1994', '1998', '2006', '2014', '2006', '1995', '1988', '1962', '1942', '2023', '2011', '1936', '1988', '1968', '1954', '1979', '1931', '1979', '2000', '2012', '1981', '2008', '2006', '1950', '1957', '2018', '1980', '1940', '1957', '2018', '1986', '2009', '2012', '1999', '1964', '2003', '2017', '1984', '1995', '1981', '1995', '2019', '2019', '1997', '1997', '2016', '1984', '2009', '1963', '1952', '2018', '2000', '2010', '1985', '1983', '2004', '1968', '2012', '1992', '1952', '1962', '1941', '1931', '1960', '1959', '1958', '1944', '2001', '1983', '1987', '1971', '2010', '1995', '2009', '2020', '1962', '1973', '2011', '1989', '1927', '1988', '2007', '2000', '1948', '1997', '1976', '2019', '2004', '2016', '1965', '2005', '2022', '1959', '1921', '2013', '2020', '2018', '1950', '1961', '1998', '2007', '1995', '1985', '2010', '2006', '1999', '1993', '1992', '2001', '1948', '2007', '1961', '2003', '1982', '1975', '1963', '2003', '1950', '1980', '1974', '2004', '1954', '1939', '2005', '1980', '2013', '1998', '2009', '2015', '2021', '2017', '1957', '1996', '1996', '2011', '2008', '2002', '1988', '2004', '2019', '2011', '1997', '1982', '2013', '1995', '2014', '1925', '1959', '1975', '2014', '2016', '1954', '1993', '2003', '1926', '1978', '1957', '2014', '1949', '1953', '1924', '1989', '2015', '2001', '1939', '1975', '2010', '2009', '1957', '2019', '2015', '1998', '1953', '2007', '1976', '2004', '2017', '1928', '2015', '1986', '1984', '2021', '2004', '2013', '1976', '1973', '1946', '1986', '1995', '1939', '2003', '2004', '2007', '2005', '1942', '2009', '2016', '1940', '1966', '1993', '2000', '1940', '1965', '1967', '1955', '1999', '1934', '2011', '1959', '1966', '1979', '1992', '2012'], 'rule_c1vj': ['2h 22m', '2h 55m', '2h 32m', '3h 22m', '1h 36m', '3h 15m', '3h 21m', '2h 34m', '2h 58m', '2h 41m', '2h 22m', '2h 19m', '2h 59m', '2h 28m', '2h 4m', '2h 16m', '2h 25m', '2h 13m', '2h 7m', '2h 10m', '3h 27m', '2h 49m', '1h 58m', '2h 20m', '2h 49m', '2h 10m', '1h 56m', '3h 9m', '2h 1m', '2h 17m', '1h 56m', '2h 5m', '2h 30m', '1h 49m', '2h 12m', '2h 35m', '1h 28m', '1h 50m', '1h 59m', '2h 31m', '1h 46m', '2h 10m', '1h 46m', '1h 29m', '2h 13m', '1h 42m', '3h', '1h 52m', '1h 27m', '2h 35m', '2h 46m', '1h 52m', '1h 57m', '1h 27m', '2h 27m', '1h 53m', '2h 45m', '1h 55m', '1h 38m', '2h 17m', '1h 50m', '1h 28m', '2h 29m', '2h 26m', '2h 5m', '1h 56m', '1h 57m', '2h 17m', '2h 33m', '2h 44m', '2h 2m', '1h 35m', '1h 41m', '1h 45m', '2h 40m', '1h 21m', '2h 29m', '2h 58m', '3h 1m', '2h 2m', '2h 14m', '2h 6m', '1h 46m', '3h 49m', '2h 50m', '2h 23m', '1h 43m', '2h 6m', '1h 42m', '1h 43m', '2h 22m', '2h 11m', '1h 48m', '2h 29m', '1h 55m', '1h 39m', '2h 23m', '3h 38m', '1h 59m', '1h 57m', '2h 5m', '2h 16m', '2h 8m', '1h 47m', '2h 2m', '2h 50m', '1h 56m', '2h 16m', '2h 11m', '2h 50m', '1h 36m', '2h 40m', '2h 9m', '2h 9m', '2h 3m', '2h 7m', '2h 33m', '2h 12m', '2h 42m', '1h 44m', '1h 29m', '2h 18m', '1h 54m', '1h 59m', '2h 36m', '2h 41m', '2h 12m', '2h 20m', '2h 10m', '2h 1m', '1h 8m', '3h', '1h 37m', '2h 10m', '2h 18m', '2h 59m', '1h 43m', '2h 38m', '2h 58m', '2h 40m', '2h 18m', '1h 58m', '1h 47m', '2h 7m', '2h 10m', '2h 15m', '2h 6m', '2h 2m', '1h 50m', '1h 51m', '1h 49m', '1h 31m', '2h 52m', '1h 40m', '1h 28m', '2h 4m', '2h 10m', '1h 59m', '1h 45m', '3h 58m', '2h 12m', '2h 9m', '2h 33m', '1h 47m', '2h 9m', '1h 35m', '2h 28m', '1h 55m', '2h 41m', '1h 33m', '1h 38m', '2h 20m', '1h 56m', '2h 21m', '1h 26m', '2h 12m', '1h 36m', '2h 10m', '1h 29m', '1h 57m', '2h 14m', '1h 41m', '1h 39m', '1h 35m', '3h 32m', '3h 5m', '2h 29m', '2h 19m', '1h 48m', '2h 13m', '2h 11m', '1h 18m', '3h 3m', '1h 31m', '2h 2m', '1h 44m', '2h 11m', '45m', '2h 8m', '2h', '1h 32m', '2h 9m', '2h 4m', '1h 38m', '1h 32m', '1h 36m', '2h 32m', '1h 58m', '1h 57m', '2h 16m', '1h 51m', '2h', '2h 1m', '2h 17m', '1h 50m', '2h 9m', '2h', '1h 47m', '2h 44m', '1h 20m', '2h 3m', '2h 1m', '2h 2m', '2h 50m', '1h 29m', '1h 38m', '1h 42m', '2h 23m', '1h 55m', '2h 28m', '1h 52m', '1h 39m', '1h 33m', '2h 25m', '2h 9m', '2h 1m', '1h 41m', '2h 34m', '2h 10m', '2h 52m', '2h 7m', '2h 5m', '1h 26m', '1h 45m', '2h 26m', '1h 39m', '1h 25m', '1h 34m', '1h 30m', '5h 21m'], 'rule_93mw': ['2h 22m', '2h 55m', '2h 32m', '3h 22m', '1h 36m', '3h 15m', '3h 21m', '2h 34m', '2h 58m', '2h 41m', '2h 22m', '2h 19m', '2h 59m', '2h 28m', '2h 4m', '2h 16m', '2h 25m', '2h 13m', '2h 7m', '2h 10m', '3h 27m', '2h 49m', '1h 58m', '2h 20m', '2h 49m', '2h 10m', '1h 56m', '3h 9m', '2h 1m', '2h 17m', '1h 56m', '2h 5m', '2h 30m', '1h 49m', '2h 12m', '2h 35m', '1h 28m', '1h 50m', '1h 59m', '2h 31m', '1h 46m', '2h 10m', '1h 46m', '1h 29m', '2h 13m', '1h 42m', '3h', '1h 52m', '1h 27m', '2h 35m', '2h 46m', '1h 52m', '1h 57m', '1h 27m', '2h 27m', '1h 53m', '2h 45m', '1h 55m', '1h 38m', '2h 17m', '1h 50m', '1h 28m', '2h 29m', '2h 26m', '2h 5m', '1h 56m', '1h 57m', '2h 17m', '2h 33m', '2h 44m', '2h 2m', '1h 35m', '1h 41m', '1h 45m', '2h 40m', '1h 21m', '2h 29m', '2h 58m', '3h 1m', '2h 2m', '2h 14m', '2h 6m', '1h 46m', '3h 49m', '2h 50m', '2h 23m', '1h 43m', '2h 6m', '1h 42m', '1h 43m', '2h 22m', '2h 11m', '1h 48m', '2h 29m', '1h 55m', '1h 39m', '2h 23m', '3h 38m', '1h 59m', '1h 57m', '2h 5m', '2h 16m', '2h 8m', '1h 47m', '2h 2m', '2h 50m', '1h 56m', '2h 16m', '2h 11m', '2h 50m', '1h 36m', '2h 40m', '2h 9m', '2h 9m', '2h 3m', '2h 7m', '2h 33m', '2h 12m', '2h 42m', '1h 44m', '1h 29m', '2h 18m', '1h 54m', '1h 59m', '2h 36m', '2h 41m', '2h 12m', '2h 20m', '2h 10m', '2h 1m', '1h 8m', '3h', '1h 37m', '2h 10m', '2h 18m', '2h 59m', '1h 43m', '2h 38m', '2h 58m', '2h 40m', '2h 18m', '1h 58m', '1h 47m', '2h 7m', '2h 10m', '2h 15m', '2h 6m', '2h 2m', '1h 50m', '1h 51m', '1h 49m', '1h 31m', '2h 52m', '1h 40m', '1h 28m', '2h 4m', '2h 10m', '1h 59m', '1h 45m', '3h 58m', '2h 12m', '2h 9m', '2h 33m', '1h 47m', '2h 9m', '1h 35m', '2h 28m', '1h 55m', '2h 41m', '1h 33m', '1h 38m', '2h 20m', '1h 56m', '2h 21m', '1h 26m', '2h 12m', '1h 36m', '2h 10m', '1h 29m', '1h 57m', '2h 14m', '1h 41m', '1h 39m', '1h 35m', '3h 32m', '3h 5m', '2h 29m', '2h 19m', '1h 48m', '2h 13m', '2h 11m', '1h 18m', '3h 3m', '1h 31m', '2h 2m', '1h 44m', '2h 11m', '45m', '2h 8m', '2h', '1h 32m', '2h 9m', '2h 4m', '1h 38m', '1h 32m', '1h 36m', '2h 32m', '1h 58m', '1h 57m', '2h 16m', '1h 51m', '2h', '2h 1m', '2h 17m', '1h 50m', '2h 9m', '2h', '1h 47m', '2h 44m', '1h 20m', '2h 3m', '2h 1m', '2h 2m', '2h 50m', '1h 29m', '1h 38m', '1h 42m', '2h 23m', '1h 55m', '2h 28m', '1h 52m', '1h 39m', '1h 33m', '2h 25m', '2h 9m', '2h 1m', '1h 41m', '2h 34m', '2h 10m', '2h 52m', '2h 7m', '2h 5m', '1h 26m', '1h 45m', '2h 26m', '1h 39m', '1h 25m', '1h 34m', '1h 30m', '5h 21m'], 'rule_0o45': ['2h 22m', '2h 55m', '2h 32m', '3h 22m', '1h 36m', '3h 15m', '3h 21m', '2h 34m', '2h 58m', '2h 41m', '2h 22m', '2h 19m', '2h 59m', '2h 28m', '2h 4m', '2h 16m', '2h 25m', '2h 13m', '2h 7m', '2h 10m', '3h 27m', '2h 49m', '1h 58m', '2h 20m', '2h 49m', '2h 10m', '1h 56m', '3h 9m', '2h 1m', '2h 17m', '1h 56m', '2h 5m', '2h 30m', '1h 49m', '2h 12m', '2h 35m', '1h 28m', '1h 50m', '1h 59m', '2h 31m', '1h 46m', '2h 10m', '1h 46m', '1h 29m', '2h 13m', '1h 42m', '3h', '1h 52m', '1h 27m', '2h 35m', '2h 46m', '1h 52m', '1h 57m', '1h 27m', '2h 27m', '1h 53m', '2h 45m', '1h 55m', '1h 38m', '2h 17m', '1h 50m', '1h 28m', '2h 29m', '2h 26m', '2h 5m', '1h 56m', '1h 57m', '2h 17m', '2h 33m', '2h 44m', '2h 2m', '1h 35m', '1h 41m', '1h 45m', '2h 40m', '1h 21m', '2h 29m', '2h 58m', '3h 1m', '2h 2m', '2h 14m', '2h 6m', '1h 46m', '3h 49m', '2h 50m', '2h 23m', '1h 43m', '2h 6m', '1h 42m', '1h 43m', '2h 22m', '2h 11m', '1h 48m', '2h 29m', '1h 55m', '1h 39m', '2h 23m', '3h 38m', '1h 59m', '1h 57m', '2h 5m', '2h 16m', '2h 8m', '1h 47m', '2h 2m', '2h 50m', '1h 56m', '2h 16m', '2h 11m', '2h 50m', '1h 36m', '2h 40m', '2h 9m', '2h 9m', '2h 3m', '2h 7m', '2h 33m', '2h 12m', '2h 42m', '1h 44m', '1h 29m', '2h 18m', '1h 54m', '1h 59m', '2h 36m', '2h 41m', '2h 12m', '2h 20m', '2h 10m', '2h 1m', '1h 8m', '3h', '1h 37m', '2h 10m', '2h 18m', '2h 59m', '1h 43m', '2h 38m', '2h 58m', '2h 40m', '2h 18m', '1h 58m', '1h 47m', '2h 7m', '2h 10m', '2h 15m', '2h 6m', '2h 2m', '1h 50m', '1h 51m', '1h 49m', '1h 31m', '2h 52m', '1h 40m', '1h 28m', '2h 4m', '2h 10m', '1h 59m', '1h 45m', '3h 58m', '2h 12m', '2h 9m', '2h 33m', '1h 47m', '2h 9m', '1h 35m', '2h 28m', '1h 55m', '2h 41m', '1h 33m', '1h 38m', '2h 20m', '1h 56m', '2h 21m', '1h 26m', '2h 12m', '1h 36m', '2h 10m', '1h 29m', '1h 57m', '2h 14m', '1h 41m', '1h 39m', '1h 35m', '3h 32m', '3h 5m', '2h 29m', '2h 19m', '1h 48m', '2h 13m', '2h 11m', '1h 18m', '3h 3m', '1h 31m', '2h 2m', '1h 44m', '2h 11m', '45m', '2h 8m', '2h', '1h 32m', '2h 9m', '2h 4m', '1h 38m', '1h 32m', '1h 36m', '2h 32m', '1h 58m', '1h 57m', '2h 16m', '1h 51m', '2h', '2h 1m', '2h 17m', '1h 50m', '2h 9m', '2h', '1h 47m', '2h 44m', '1h 20m', '2h 3m', '2h 1m', '2h 2m', '2h 50m', '1h 29m', '1h 38m', '1h 42m', '2h 23m', '1h 55m', '2h 28m', '1h 52m', '1h 39m', '1h 33m', '2h 25m', '2h 9m', '2h 1m', '1h 41m', '2h 34m', '2h 10m', '2h 52m', '2h 7m', '2h 5m', '1h 26m', '1h 45m', '2h 26m', '1h 39m', '1h 25m', '1h 34m', '1h 30m', '5h 21m'], 'rule_5nv2': ['9.3', '9.2', '9.0', '9.0', '9.0', '9.0', '9.0', '8.9', '8.8', '8.8', '8.8', '8.8', '8.8', '8.8', '8.7', '8.7', '8.7', '8.7', '8.6', '8.6', '8.6', '8.7', '8.6', '8.7', '8.6', '8.6', '8.6', '8.6', '8.6', '8.6', '8.5', '8.6', '8.5', '8.5', '8.5', '8.5', '8.5', '8.5', '8.5', '8.5', '8.5', '8.5', '8.5', '8.5', '8.6', '8.5', '8.5', '8.5', '8.5', '8.5', '8.5', '8.5', '8.5', '8.5', '8.4', '8.4', '8.5', '8.4', '8.4', '8.4', '8.4', '8.4', '8.4', '8.4', '8.4', '8.4', '8.4', '8.4', '8.4', '8.4', '8.3', '8.4', '8.4', '8.4', '8.4', '8.3', '8.4', '8.3', '8.4', '8.4', '8.3', '8.3', '8.4', '8.3', '8.4', '8.4', '8.3', '8.4', '8.3', '8.3', '8.4', '8.3', '8.3', '8.3', '8.3', '8.3', '8.3', '8.3', '8.3', '8.3', '8.3', '8.3', '8.3', '8.3', '8.3', '8.3', '8.3', '8.3', '8.3', '8.3', '8.3', '8.3', '8.3', '8.3', '8.3', '8.2', '8.3', '8.2', '8.3', '8.2', '8.3', '8.2', '8.2', '8.2', '8.2', '8.3', '8.2', '8.2', '8.3', '8.2', '8.2', '8.2', '8.2', '8.2', '8.2', '8.3', '8.2', '8.2', '8.2', '8.2', '8.2', '8.2', '8.2', '8.2', '8.2', '8.2', '8.2', '8.2', '8.2', '8.2', '8.2', '8.2', '8.2', '8.2', '8.2', '8.2', '8.2', '8.2', '8.2', '8.2', '8.2', '8.1', '8.1', '8.1', '8.2', '8.1', '8.2', '8.1', '8.1', '8.1', '8.1', '8.1', '8.1', '8.1', '8.1', '8.1', '8.2', '8.1', '8.2', '8.1', '8.1', '8.1', '8.1', '8.1', '8.1', '8.1', '8.1', '8.1', '8.1', '8.1', '8.1', '8.1', '8.1', '8.1', '8.1', '8.1', '8.2', '8.2', '8.1', '8.1', '8.1', '8.1', '8.1', '8.1', '8.1', '8.1', '8.1', '8.1', '8.1', '8.1', '8.1', '8.1', '8.1', '8.1', '8.1', '8.1', '8.1', '8.1', '8.8', '8.1', '8.1', '8.1', '8.1', '8.1', '8.1', '8.1', '8.1', '8.1', '8.0', '8.1', '8.2', '8.2', '8.1', '8.1', '8.1', '8.1', '8.0', '8.1', '8.1', '8.1', '8.1', '8.2', '8.1', '8.1', '8.1', '8.1', '8.1', '8.0', '8.0', '8.2']}\n"
     ]
    }
   ],
   "source": [
    "df = scraper.get_result_similar(url1, grouped=True)\n",
    "print(df)"
   ]
  },
  {
   "cell_type": "code",
   "execution_count": null,
   "id": "160d091f",
   "metadata": {},
   "outputs": [],
   "source": [
    "# Step 6: Retrieve and Print Data Keys"
   ]
  },
  {
   "cell_type": "code",
   "execution_count": 22,
   "id": "6c6f9f4c",
   "metadata": {},
   "outputs": [
    {
     "name": "stdout",
     "output_type": "stream",
     "text": [
      "['rule_xtog', 'rule_ocw7', 'rule_2t7x', 'rule_ctzd', 'rule_xsko', 'rule_3nrr', 'rule_c1vj', 'rule_93mw', 'rule_0o45', 'rule_5nv2']\n"
     ]
    }
   ],
   "source": [
    "key = list(df.keys())\n",
    "print(key)"
   ]
  },
  {
   "cell_type": "code",
   "execution_count": null,
   "id": "c7acf632",
   "metadata": {},
   "outputs": [],
   "source": [
    "# Step 7: Set Rule Aliases for Data Clarity"
   ]
  },
  {
   "cell_type": "code",
   "execution_count": 24,
   "id": "9813b157",
   "metadata": {},
   "outputs": [],
   "source": [
    "scraper.set_rule_aliases({'rule_xtog':'Ranking_&_Movie_Name', \n",
    "                          'rule_ocw7':'Released_Year', \n",
    "                          'rule_c1vj':'Movie_Duration', \n",
    "                          'rule_5nv2':'Rating'})"
   ]
  }
 ],
 "metadata": {
  "kernelspec": {
   "display_name": "Python 3 (ipykernel)",
   "language": "python",
   "name": "python3"
  },
  "language_info": {
   "codemirror_mode": {
    "name": "ipython",
    "version": 3
   },
   "file_extension": ".py",
   "mimetype": "text/x-python",
   "name": "python",
   "nbconvert_exporter": "python",
   "pygments_lexer": "ipython3",
   "version": "3.11.5"
  }
 },
 "nbformat": 4,
 "nbformat_minor": 5
}
